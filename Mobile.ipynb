{
  "nbformat": 4,
  "nbformat_minor": 0,
  "metadata": {
    "colab": {
      "provenance": [],
      "authorship_tag": "ABX9TyPof6TVxZKqkcuAbe2z7SX0",
      "include_colab_link": true
    },
    "kernelspec": {
      "name": "python3",
      "display_name": "Python 3"
    },
    "language_info": {
      "name": "python"
    }
  },
  "cells": [
    {
      "cell_type": "markdown",
      "metadata": {
        "id": "view-in-github",
        "colab_type": "text"
      },
      "source": [
        "<a href=\"https://colab.research.google.com/github/VasaBhanuPrakash/Mobile-Sales-Prediction/blob/main/Mobile.ipynb\" target=\"_parent\"><img src=\"https://colab.research.google.com/assets/colab-badge.svg\" alt=\"Open In Colab\"/></a>"
      ]
    },
    {
      "cell_type": "code",
      "execution_count": null,
      "metadata": {
        "id": "9DKfAdZysSxX"
      },
      "outputs": [],
      "source": [
        "import pandas as pd\n",
        "import numpy as np\n",
        "import matplotlib.pyplot as plt\n",
        "from sklearn.model_selection import train_test_split\n",
        "from sklearn.linear_model import LinearRegression\n",
        "import seaborn as sns\n",
        "from sklearn.metrics import mean_squared_error,mean_absolute_error,r2_score"
      ]
    },
    {
      "cell_type": "code",
      "source": [
        "df=pd.read_csv(\"mobile phone price prediction.csv\")"
      ],
      "metadata": {
        "id": "aSXQWPT0tbBL"
      },
      "execution_count": null,
      "outputs": []
    },
    {
      "cell_type": "code",
      "source": [
        "df.head()"
      ],
      "metadata": {
        "colab": {
          "base_uri": "https://localhost:8080/",
          "height": 816
        },
        "id": "aJNbGz2_tikq",
        "outputId": "aaf30414-5605-43a6-cef9-f142fbf99779"
      },
      "execution_count": null,
      "outputs": [
        {
          "output_type": "execute_result",
          "data": {
            "text/plain": [
              "   Unnamed: 0                                  Name  Rating  Spec_score  \\\n",
              "0           0                 Samsung Galaxy F14 5G    4.65          68   \n",
              "1           1                    Samsung Galaxy A11    4.20          63   \n",
              "2           2                    Samsung Galaxy A13    4.30          75   \n",
              "3           3                    Samsung Galaxy F23    4.10          73   \n",
              "4           4  Samsung Galaxy A03s (4GB RAM + 64GB)    4.10          69   \n",
              "\n",
              "                       No_of_sim       Ram            Battery     Display  \\\n",
              "0  Dual Sim, 3G, 4G, 5G, VoLTE,   4 GB RAM  6000 mAh Battery   6.6 inches   \n",
              "1      Dual Sim, 3G, 4G, VoLTE,   2 GB RAM  4000 mAh Battery   6.4 inches   \n",
              "2      Dual Sim, 3G, 4G, VoLTE,   4 GB RAM  5000 mAh Battery   6.6 inches   \n",
              "3      Dual Sim, 3G, 4G, VoLTE,   4 GB RAM   6000 mAh Battery  6.4 inches   \n",
              "4      Dual Sim, 3G, 4G, VoLTE,   4 GB RAM  5000 mAh Battery   6.5 inches   \n",
              "\n",
              "                                              Camera  \\\n",
              "0    50 MP + 2 MP Dual Rear &amp; 13 MP Front Camera   \n",
              "1  13 MP + 5 MP + 2 MP Triple Rear &amp; 8 MP Fro...   \n",
              "2            50 MP Quad Rear &amp; 8 MP Front Camera   \n",
              "3           48 MP Quad Rear &amp; 13 MP Front Camera   \n",
              "4  13 MP + 2 MP + 2 MP Triple Rear &amp; 5 MP Fro...   \n",
              "\n",
              "                      External_Memory Android_version   Price  company  \\\n",
              "0    Memory Card Supported, upto 1 TB              13   9,999  Samsung   \n",
              "1  Memory Card Supported, upto 512 GB              10   9,990  Samsung   \n",
              "2    Memory Card Supported, upto 1 TB              12  11,999  Samsung   \n",
              "3    Memory Card Supported, upto 1 TB              12  11,999  Samsung   \n",
              "4    Memory Card Supported, upto 1 TB              11  11,999  Samsung   \n",
              "\n",
              "    Inbuilt_memory       fast_charging  \\\n",
              "0   128 GB inbuilt   25W Fast Charging   \n",
              "1    32 GB inbuilt   15W Fast Charging   \n",
              "2    64 GB inbuilt   25W Fast Charging   \n",
              "3    64 GB inbuilt                 NaN   \n",
              "4    64 GB inbuilt   15W Fast Charging   \n",
              "\n",
              "                               Screen_resolution             Processor  \\\n",
              "0   2408 x 1080 px Display with Water Drop Notch   Octa Core Processor   \n",
              "1          720 x 1560 px Display with Punch Hole     1.8 GHz Processor   \n",
              "2   1080 x 2408 px Display with Water Drop Notch       2 GHz Processor   \n",
              "3                                  720 x 1600 px             Octa Core   \n",
              "4    720 x 1600 px Display with Water Drop Notch             Octa Core   \n",
              "\n",
              "  Processor_name  \n",
              "0    Exynos 1330  \n",
              "1      Octa Core  \n",
              "2      Octa Core  \n",
              "3      Helio G88  \n",
              "4      Helio P35  "
            ],
            "text/html": [
              "\n",
              "  <div id=\"df-ac8a7480-ffc1-4d2d-b518-f442bd649404\" class=\"colab-df-container\">\n",
              "    <div>\n",
              "<style scoped>\n",
              "    .dataframe tbody tr th:only-of-type {\n",
              "        vertical-align: middle;\n",
              "    }\n",
              "\n",
              "    .dataframe tbody tr th {\n",
              "        vertical-align: top;\n",
              "    }\n",
              "\n",
              "    .dataframe thead th {\n",
              "        text-align: right;\n",
              "    }\n",
              "</style>\n",
              "<table border=\"1\" class=\"dataframe\">\n",
              "  <thead>\n",
              "    <tr style=\"text-align: right;\">\n",
              "      <th></th>\n",
              "      <th>Unnamed: 0</th>\n",
              "      <th>Name</th>\n",
              "      <th>Rating</th>\n",
              "      <th>Spec_score</th>\n",
              "      <th>No_of_sim</th>\n",
              "      <th>Ram</th>\n",
              "      <th>Battery</th>\n",
              "      <th>Display</th>\n",
              "      <th>Camera</th>\n",
              "      <th>External_Memory</th>\n",
              "      <th>Android_version</th>\n",
              "      <th>Price</th>\n",
              "      <th>company</th>\n",
              "      <th>Inbuilt_memory</th>\n",
              "      <th>fast_charging</th>\n",
              "      <th>Screen_resolution</th>\n",
              "      <th>Processor</th>\n",
              "      <th>Processor_name</th>\n",
              "    </tr>\n",
              "  </thead>\n",
              "  <tbody>\n",
              "    <tr>\n",
              "      <th>0</th>\n",
              "      <td>0</td>\n",
              "      <td>Samsung Galaxy F14 5G</td>\n",
              "      <td>4.65</td>\n",
              "      <td>68</td>\n",
              "      <td>Dual Sim, 3G, 4G, 5G, VoLTE,</td>\n",
              "      <td>4 GB RAM</td>\n",
              "      <td>6000 mAh Battery</td>\n",
              "      <td>6.6 inches</td>\n",
              "      <td>50 MP + 2 MP Dual Rear &amp;amp; 13 MP Front Camera</td>\n",
              "      <td>Memory Card Supported, upto 1 TB</td>\n",
              "      <td>13</td>\n",
              "      <td>9,999</td>\n",
              "      <td>Samsung</td>\n",
              "      <td>128 GB inbuilt</td>\n",
              "      <td>25W Fast Charging</td>\n",
              "      <td>2408 x 1080 px Display with Water Drop Notch</td>\n",
              "      <td>Octa Core Processor</td>\n",
              "      <td>Exynos 1330</td>\n",
              "    </tr>\n",
              "    <tr>\n",
              "      <th>1</th>\n",
              "      <td>1</td>\n",
              "      <td>Samsung Galaxy A11</td>\n",
              "      <td>4.20</td>\n",
              "      <td>63</td>\n",
              "      <td>Dual Sim, 3G, 4G, VoLTE,</td>\n",
              "      <td>2 GB RAM</td>\n",
              "      <td>4000 mAh Battery</td>\n",
              "      <td>6.4 inches</td>\n",
              "      <td>13 MP + 5 MP + 2 MP Triple Rear &amp;amp; 8 MP Fro...</td>\n",
              "      <td>Memory Card Supported, upto 512 GB</td>\n",
              "      <td>10</td>\n",
              "      <td>9,990</td>\n",
              "      <td>Samsung</td>\n",
              "      <td>32 GB inbuilt</td>\n",
              "      <td>15W Fast Charging</td>\n",
              "      <td>720 x 1560 px Display with Punch Hole</td>\n",
              "      <td>1.8 GHz Processor</td>\n",
              "      <td>Octa Core</td>\n",
              "    </tr>\n",
              "    <tr>\n",
              "      <th>2</th>\n",
              "      <td>2</td>\n",
              "      <td>Samsung Galaxy A13</td>\n",
              "      <td>4.30</td>\n",
              "      <td>75</td>\n",
              "      <td>Dual Sim, 3G, 4G, VoLTE,</td>\n",
              "      <td>4 GB RAM</td>\n",
              "      <td>5000 mAh Battery</td>\n",
              "      <td>6.6 inches</td>\n",
              "      <td>50 MP Quad Rear &amp;amp; 8 MP Front Camera</td>\n",
              "      <td>Memory Card Supported, upto 1 TB</td>\n",
              "      <td>12</td>\n",
              "      <td>11,999</td>\n",
              "      <td>Samsung</td>\n",
              "      <td>64 GB inbuilt</td>\n",
              "      <td>25W Fast Charging</td>\n",
              "      <td>1080 x 2408 px Display with Water Drop Notch</td>\n",
              "      <td>2 GHz Processor</td>\n",
              "      <td>Octa Core</td>\n",
              "    </tr>\n",
              "    <tr>\n",
              "      <th>3</th>\n",
              "      <td>3</td>\n",
              "      <td>Samsung Galaxy F23</td>\n",
              "      <td>4.10</td>\n",
              "      <td>73</td>\n",
              "      <td>Dual Sim, 3G, 4G, VoLTE,</td>\n",
              "      <td>4 GB RAM</td>\n",
              "      <td>6000 mAh Battery</td>\n",
              "      <td>6.4 inches</td>\n",
              "      <td>48 MP Quad Rear &amp;amp; 13 MP Front Camera</td>\n",
              "      <td>Memory Card Supported, upto 1 TB</td>\n",
              "      <td>12</td>\n",
              "      <td>11,999</td>\n",
              "      <td>Samsung</td>\n",
              "      <td>64 GB inbuilt</td>\n",
              "      <td>NaN</td>\n",
              "      <td>720 x 1600 px</td>\n",
              "      <td>Octa Core</td>\n",
              "      <td>Helio G88</td>\n",
              "    </tr>\n",
              "    <tr>\n",
              "      <th>4</th>\n",
              "      <td>4</td>\n",
              "      <td>Samsung Galaxy A03s (4GB RAM + 64GB)</td>\n",
              "      <td>4.10</td>\n",
              "      <td>69</td>\n",
              "      <td>Dual Sim, 3G, 4G, VoLTE,</td>\n",
              "      <td>4 GB RAM</td>\n",
              "      <td>5000 mAh Battery</td>\n",
              "      <td>6.5 inches</td>\n",
              "      <td>13 MP + 2 MP + 2 MP Triple Rear &amp;amp; 5 MP Fro...</td>\n",
              "      <td>Memory Card Supported, upto 1 TB</td>\n",
              "      <td>11</td>\n",
              "      <td>11,999</td>\n",
              "      <td>Samsung</td>\n",
              "      <td>64 GB inbuilt</td>\n",
              "      <td>15W Fast Charging</td>\n",
              "      <td>720 x 1600 px Display with Water Drop Notch</td>\n",
              "      <td>Octa Core</td>\n",
              "      <td>Helio P35</td>\n",
              "    </tr>\n",
              "  </tbody>\n",
              "</table>\n",
              "</div>\n",
              "    <div class=\"colab-df-buttons\">\n",
              "\n",
              "  <div class=\"colab-df-container\">\n",
              "    <button class=\"colab-df-convert\" onclick=\"convertToInteractive('df-ac8a7480-ffc1-4d2d-b518-f442bd649404')\"\n",
              "            title=\"Convert this dataframe to an interactive table.\"\n",
              "            style=\"display:none;\">\n",
              "\n",
              "  <svg xmlns=\"http://www.w3.org/2000/svg\" height=\"24px\" viewBox=\"0 -960 960 960\">\n",
              "    <path d=\"M120-120v-720h720v720H120Zm60-500h600v-160H180v160Zm220 220h160v-160H400v160Zm0 220h160v-160H400v160ZM180-400h160v-160H180v160Zm440 0h160v-160H620v160ZM180-180h160v-160H180v160Zm440 0h160v-160H620v160Z\"/>\n",
              "  </svg>\n",
              "    </button>\n",
              "\n",
              "  <style>\n",
              "    .colab-df-container {\n",
              "      display:flex;\n",
              "      gap: 12px;\n",
              "    }\n",
              "\n",
              "    .colab-df-convert {\n",
              "      background-color: #E8F0FE;\n",
              "      border: none;\n",
              "      border-radius: 50%;\n",
              "      cursor: pointer;\n",
              "      display: none;\n",
              "      fill: #1967D2;\n",
              "      height: 32px;\n",
              "      padding: 0 0 0 0;\n",
              "      width: 32px;\n",
              "    }\n",
              "\n",
              "    .colab-df-convert:hover {\n",
              "      background-color: #E2EBFA;\n",
              "      box-shadow: 0px 1px 2px rgba(60, 64, 67, 0.3), 0px 1px 3px 1px rgba(60, 64, 67, 0.15);\n",
              "      fill: #174EA6;\n",
              "    }\n",
              "\n",
              "    .colab-df-buttons div {\n",
              "      margin-bottom: 4px;\n",
              "    }\n",
              "\n",
              "    [theme=dark] .colab-df-convert {\n",
              "      background-color: #3B4455;\n",
              "      fill: #D2E3FC;\n",
              "    }\n",
              "\n",
              "    [theme=dark] .colab-df-convert:hover {\n",
              "      background-color: #434B5C;\n",
              "      box-shadow: 0px 1px 3px 1px rgba(0, 0, 0, 0.15);\n",
              "      filter: drop-shadow(0px 1px 2px rgba(0, 0, 0, 0.3));\n",
              "      fill: #FFFFFF;\n",
              "    }\n",
              "  </style>\n",
              "\n",
              "    <script>\n",
              "      const buttonEl =\n",
              "        document.querySelector('#df-ac8a7480-ffc1-4d2d-b518-f442bd649404 button.colab-df-convert');\n",
              "      buttonEl.style.display =\n",
              "        google.colab.kernel.accessAllowed ? 'block' : 'none';\n",
              "\n",
              "      async function convertToInteractive(key) {\n",
              "        const element = document.querySelector('#df-ac8a7480-ffc1-4d2d-b518-f442bd649404');\n",
              "        const dataTable =\n",
              "          await google.colab.kernel.invokeFunction('convertToInteractive',\n",
              "                                                    [key], {});\n",
              "        if (!dataTable) return;\n",
              "\n",
              "        const docLinkHtml = 'Like what you see? Visit the ' +\n",
              "          '<a target=\"_blank\" href=https://colab.research.google.com/notebooks/data_table.ipynb>data table notebook</a>'\n",
              "          + ' to learn more about interactive tables.';\n",
              "        element.innerHTML = '';\n",
              "        dataTable['output_type'] = 'display_data';\n",
              "        await google.colab.output.renderOutput(dataTable, element);\n",
              "        const docLink = document.createElement('div');\n",
              "        docLink.innerHTML = docLinkHtml;\n",
              "        element.appendChild(docLink);\n",
              "      }\n",
              "    </script>\n",
              "  </div>\n",
              "\n",
              "\n",
              "<div id=\"df-1135110d-b903-472d-92ef-1de023e05376\">\n",
              "  <button class=\"colab-df-quickchart\" onclick=\"quickchart('df-1135110d-b903-472d-92ef-1de023e05376')\"\n",
              "            title=\"Suggest charts\"\n",
              "            style=\"display:none;\">\n",
              "\n",
              "<svg xmlns=\"http://www.w3.org/2000/svg\" height=\"24px\"viewBox=\"0 0 24 24\"\n",
              "     width=\"24px\">\n",
              "    <g>\n",
              "        <path d=\"M19 3H5c-1.1 0-2 .9-2 2v14c0 1.1.9 2 2 2h14c1.1 0 2-.9 2-2V5c0-1.1-.9-2-2-2zM9 17H7v-7h2v7zm4 0h-2V7h2v10zm4 0h-2v-4h2v4z\"/>\n",
              "    </g>\n",
              "</svg>\n",
              "  </button>\n",
              "\n",
              "<style>\n",
              "  .colab-df-quickchart {\n",
              "      --bg-color: #E8F0FE;\n",
              "      --fill-color: #1967D2;\n",
              "      --hover-bg-color: #E2EBFA;\n",
              "      --hover-fill-color: #174EA6;\n",
              "      --disabled-fill-color: #AAA;\n",
              "      --disabled-bg-color: #DDD;\n",
              "  }\n",
              "\n",
              "  [theme=dark] .colab-df-quickchart {\n",
              "      --bg-color: #3B4455;\n",
              "      --fill-color: #D2E3FC;\n",
              "      --hover-bg-color: #434B5C;\n",
              "      --hover-fill-color: #FFFFFF;\n",
              "      --disabled-bg-color: #3B4455;\n",
              "      --disabled-fill-color: #666;\n",
              "  }\n",
              "\n",
              "  .colab-df-quickchart {\n",
              "    background-color: var(--bg-color);\n",
              "    border: none;\n",
              "    border-radius: 50%;\n",
              "    cursor: pointer;\n",
              "    display: none;\n",
              "    fill: var(--fill-color);\n",
              "    height: 32px;\n",
              "    padding: 0;\n",
              "    width: 32px;\n",
              "  }\n",
              "\n",
              "  .colab-df-quickchart:hover {\n",
              "    background-color: var(--hover-bg-color);\n",
              "    box-shadow: 0 1px 2px rgba(60, 64, 67, 0.3), 0 1px 3px 1px rgba(60, 64, 67, 0.15);\n",
              "    fill: var(--button-hover-fill-color);\n",
              "  }\n",
              "\n",
              "  .colab-df-quickchart-complete:disabled,\n",
              "  .colab-df-quickchart-complete:disabled:hover {\n",
              "    background-color: var(--disabled-bg-color);\n",
              "    fill: var(--disabled-fill-color);\n",
              "    box-shadow: none;\n",
              "  }\n",
              "\n",
              "  .colab-df-spinner {\n",
              "    border: 2px solid var(--fill-color);\n",
              "    border-color: transparent;\n",
              "    border-bottom-color: var(--fill-color);\n",
              "    animation:\n",
              "      spin 1s steps(1) infinite;\n",
              "  }\n",
              "\n",
              "  @keyframes spin {\n",
              "    0% {\n",
              "      border-color: transparent;\n",
              "      border-bottom-color: var(--fill-color);\n",
              "      border-left-color: var(--fill-color);\n",
              "    }\n",
              "    20% {\n",
              "      border-color: transparent;\n",
              "      border-left-color: var(--fill-color);\n",
              "      border-top-color: var(--fill-color);\n",
              "    }\n",
              "    30% {\n",
              "      border-color: transparent;\n",
              "      border-left-color: var(--fill-color);\n",
              "      border-top-color: var(--fill-color);\n",
              "      border-right-color: var(--fill-color);\n",
              "    }\n",
              "    40% {\n",
              "      border-color: transparent;\n",
              "      border-right-color: var(--fill-color);\n",
              "      border-top-color: var(--fill-color);\n",
              "    }\n",
              "    60% {\n",
              "      border-color: transparent;\n",
              "      border-right-color: var(--fill-color);\n",
              "    }\n",
              "    80% {\n",
              "      border-color: transparent;\n",
              "      border-right-color: var(--fill-color);\n",
              "      border-bottom-color: var(--fill-color);\n",
              "    }\n",
              "    90% {\n",
              "      border-color: transparent;\n",
              "      border-bottom-color: var(--fill-color);\n",
              "    }\n",
              "  }\n",
              "</style>\n",
              "\n",
              "  <script>\n",
              "    async function quickchart(key) {\n",
              "      const quickchartButtonEl =\n",
              "        document.querySelector('#' + key + ' button');\n",
              "      quickchartButtonEl.disabled = true;  // To prevent multiple clicks.\n",
              "      quickchartButtonEl.classList.add('colab-df-spinner');\n",
              "      try {\n",
              "        const charts = await google.colab.kernel.invokeFunction(\n",
              "            'suggestCharts', [key], {});\n",
              "      } catch (error) {\n",
              "        console.error('Error during call to suggestCharts:', error);\n",
              "      }\n",
              "      quickchartButtonEl.classList.remove('colab-df-spinner');\n",
              "      quickchartButtonEl.classList.add('colab-df-quickchart-complete');\n",
              "    }\n",
              "    (() => {\n",
              "      let quickchartButtonEl =\n",
              "        document.querySelector('#df-1135110d-b903-472d-92ef-1de023e05376 button');\n",
              "      quickchartButtonEl.style.display =\n",
              "        google.colab.kernel.accessAllowed ? 'block' : 'none';\n",
              "    })();\n",
              "  </script>\n",
              "</div>\n",
              "\n",
              "    </div>\n",
              "  </div>\n"
            ],
            "application/vnd.google.colaboratory.intrinsic+json": {
              "type": "dataframe",
              "variable_name": "df",
              "summary": "{\n  \"name\": \"df\",\n  \"rows\": 1370,\n  \"fields\": [\n    {\n      \"column\": \"Unnamed: 0\",\n      \"properties\": {\n        \"dtype\": \"number\",\n        \"std\": 395,\n        \"min\": 0,\n        \"max\": 1369,\n        \"num_unique_values\": 1370,\n        \"samples\": [\n          427,\n          1088,\n          668\n        ],\n        \"semantic_type\": \"\",\n        \"description\": \"\"\n      }\n    },\n    {\n      \"column\": \"Name\",\n      \"properties\": {\n        \"dtype\": \"string\",\n        \"num_unique_values\": 1334,\n        \"samples\": [\n          \"Motorola Moto G24 Power (8GB RAM + 128GB)\",\n          \"OnePlus Nord 5\",\n          \"Huawei Mate 40 Pro Plus\"\n        ],\n        \"semantic_type\": \"\",\n        \"description\": \"\"\n      }\n    },\n    {\n      \"column\": \"Rating\",\n      \"properties\": {\n        \"dtype\": \"number\",\n        \"std\": 0.2301756924899598,\n        \"min\": 3.75,\n        \"max\": 4.75,\n        \"num_unique_values\": 20,\n        \"samples\": [\n          4.65,\n          3.75,\n          4.7\n        ],\n        \"semantic_type\": \"\",\n        \"description\": \"\"\n      }\n    },\n    {\n      \"column\": \"Spec_score\",\n      \"properties\": {\n        \"dtype\": \"number\",\n        \"std\": 8,\n        \"min\": 42,\n        \"max\": 98,\n        \"num_unique_values\": 50,\n        \"samples\": [\n          62,\n          53,\n          42\n        ],\n        \"semantic_type\": \"\",\n        \"description\": \"\"\n      }\n    },\n    {\n      \"column\": \"No_of_sim\",\n      \"properties\": {\n        \"dtype\": \"category\",\n        \"num_unique_values\": 9,\n        \"samples\": [\n          \"Single Sim, 3G, 4G, 5G, VoLTE, Vo5G, \",\n          \"Dual Sim, 3G, 4G, VoLTE, \",\n          \"Single Sim, 3G, 4G, VoLTE, \"\n        ],\n        \"semantic_type\": \"\",\n        \"description\": \"\"\n      }\n    },\n    {\n      \"column\": \"Ram\",\n      \"properties\": {\n        \"dtype\": \"category\",\n        \"num_unique_values\": 16,\n        \"samples\": [\n          \"4 GB RAM\",\n          \"2 GB RAM\",\n          \"1 GB RAM\"\n        ],\n        \"semantic_type\": \"\",\n        \"description\": \"\"\n      }\n    },\n    {\n      \"column\": \"Battery\",\n      \"properties\": {\n        \"dtype\": \"category\",\n        \"num_unique_values\": 89,\n        \"samples\": [\n          \"4805 mAh Battery \",\n          \"5600 mAh Battery \",\n          \"4870 mAh Battery \"\n        ],\n        \"semantic_type\": \"\",\n        \"description\": \"\"\n      }\n    },\n    {\n      \"column\": \"Display\",\n      \"properties\": {\n        \"dtype\": \"category\",\n        \"num_unique_values\": 89,\n        \"samples\": [\n          \"6.83 inches\",\n          \"12.1 inches\",\n          \"6.82 inches\"\n        ],\n        \"semantic_type\": \"\",\n        \"description\": \"\"\n      }\n    },\n    {\n      \"column\": \"Camera\",\n      \"properties\": {\n        \"dtype\": \"category\",\n        \"num_unique_values\": 347,\n        \"samples\": [\n          \"50 MP + 13 MP + 12 MP Triple Rear &amp; 13 MP Front Camera\",\n          \"48 MP + 2 MP + 2 MP Triple Rear &amp; 16 MP Front Camera\",\n          \"48 MP + 48 MP + 13 MP Triple Rear &amp; 13 MP Front Camera\"\n        ],\n        \"semantic_type\": \"\",\n        \"description\": \"\"\n      }\n    },\n    {\n      \"column\": \"External_Memory\",\n      \"properties\": {\n        \"dtype\": \"category\",\n        \"num_unique_values\": 85,\n        \"samples\": [\n          \"HarmonyOS v2.0\",\n          \"Memory Card Supported, upto 1 TB\",\n          \"50 MP + 50 MP + 13 MP Triple Rear &amp; 32 MP + 16 MP Dual Front Camera\"\n        ],\n        \"semantic_type\": \"\",\n        \"description\": \"\"\n      }\n    },\n    {\n      \"column\": \"Android_version\",\n      \"properties\": {\n        \"dtype\": \"category\",\n        \"num_unique_values\": 23,\n        \"samples\": [\n          \"2\",\n          \"8.0 (Oreo)\",\n          \"13\"\n        ],\n        \"semantic_type\": \"\",\n        \"description\": \"\"\n      }\n    },\n    {\n      \"column\": \"Price\",\n      \"properties\": {\n        \"dtype\": \"category\",\n        \"num_unique_values\": 449,\n        \"samples\": [\n          \"13,429\",\n          \"25,171\",\n          \"7,850\"\n        ],\n        \"semantic_type\": \"\",\n        \"description\": \"\"\n      }\n    },\n    {\n      \"column\": \"company\",\n      \"properties\": {\n        \"dtype\": \"category\",\n        \"num_unique_values\": 26,\n        \"samples\": [\n          \"POCO\",\n          \"Lenovo\",\n          \"Samsung\"\n        ],\n        \"semantic_type\": \"\",\n        \"description\": \"\"\n      }\n    },\n    {\n      \"column\": \"Inbuilt_memory\",\n      \"properties\": {\n        \"dtype\": \"category\",\n        \"num_unique_values\": 10,\n        \"samples\": [\n          \" 258 GB inbuilt\",\n          \" 32 GB inbuilt\",\n          \" 512 GB inbuilt\"\n        ],\n        \"semantic_type\": \"\",\n        \"description\": \"\"\n      }\n    },\n    {\n      \"column\": \"fast_charging\",\n      \"properties\": {\n        \"dtype\": \"category\",\n        \"num_unique_values\": 38,\n        \"samples\": [\n          \" 135W Fast Charging\",\n          \" 88W Fast Charging\",\n          \" Fast Charging\"\n        ],\n        \"semantic_type\": \"\",\n        \"description\": \"\"\n      }\n    },\n    {\n      \"column\": \"Screen_resolution\",\n      \"properties\": {\n        \"dtype\": \"category\",\n        \"num_unique_values\": 141,\n        \"samples\": [\n          \" 1600 x 2560 px\",\n          \" 2460 x 1080 px\",\n          \" 720 x 1280 px Display\"\n        ],\n        \"semantic_type\": \"\",\n        \"description\": \"\"\n      }\n    },\n    {\n      \"column\": \"Processor\",\n      \"properties\": {\n        \"dtype\": \"category\",\n        \"num_unique_values\": 14,\n        \"samples\": [\n          \" 1.3 GHz Processor\",\n          \" 2.3 GHz Processor\",\n          \" Octa Core Processor\"\n        ],\n        \"semantic_type\": \"\",\n        \"description\": \"\"\n      }\n    },\n    {\n      \"column\": \"Processor_name\",\n      \"properties\": {\n        \"dtype\": \"category\",\n        \"num_unique_values\": 276,\n        \"samples\": [\n          \"Snapdragon  720G \",\n          \"Dimensity 1000+\",\n          \"Snapdragon  439\"\n        ],\n        \"semantic_type\": \"\",\n        \"description\": \"\"\n      }\n    }\n  ]\n}"
            }
          },
          "metadata": {},
          "execution_count": 114
        }
      ]
    },
    {
      "cell_type": "code",
      "source": [
        "df.tail()"
      ],
      "metadata": {
        "colab": {
          "base_uri": "https://localhost:8080/",
          "height": 799
        },
        "id": "q2T-sK9WtkFC",
        "outputId": "5d7dc995-d9cf-4c1e-cf21-dbc309dbc059"
      },
      "execution_count": null,
      "outputs": [
        {
          "output_type": "execute_result",
          "data": {
            "text/plain": [
              "      Unnamed: 0                   Name  Rating  Spec_score  \\\n",
              "1365        1365                TCL 40R    4.05          75   \n",
              "1366        1366  TCL 50 XL NxtPaper 5G    4.10          80   \n",
              "1367        1367  TCL 50 XE NxtPaper 5G    4.00          80   \n",
              "1368        1368     TCL 40 NxtPaper 5G    4.50          79   \n",
              "1369        1369            TCL Trifold    4.65          93   \n",
              "\n",
              "                                No_of_sim        Ram            Battery  \\\n",
              "1365        Dual Sim, 3G, 4G, 5G, VoLTE,    4 GB RAM  5000 mAh Battery    \n",
              "1366            Dual Sim, 3G, 4G, VoLTE,    8 GB RAM  5000 mAh Battery    \n",
              "1367        Dual Sim, 3G, 4G, 5G, VoLTE,    6 GB RAM  5000 mAh Battery    \n",
              "1368        Dual Sim, 3G, 4G, 5G, VoLTE,    6 GB RAM  5000 mAh Battery    \n",
              "1369  Dual Sim, 3G, 4G, 5G, VoLTE, Vo5G,   12 GB RAM  4600 mAh Battery    \n",
              "\n",
              "         Display                                             Camera  \\\n",
              "1365  6.6 inches  50 MP + 2 MP + 2 MP Triple Rear &amp; 8 MP Fro...   \n",
              "1366  6.8 inches    50 MP + 2 MP Dual Rear &amp; 16 MP Front Camera   \n",
              "1367  6.6 inches    50 MP + 2 MP Dual Rear &amp; 16 MP Front Camera   \n",
              "1368  6.6 inches  50 MP + 2 MP + 2 MP Triple Rear &amp; 8 MP Fro...   \n",
              "1369   10 inches                     Foldable Display, Dual Display   \n",
              "\n",
              "                                        External_Memory Android_version  \\\n",
              "1365                               Memory Card (Hybrid)              12   \n",
              "1366                               Memory Card (Hybrid)              14   \n",
              "1367                   Memory Card Supported, upto 1 TB              13   \n",
              "1368                   Memory Card Supported, upto 1 TB              13   \n",
              "1369  50 MP + 48 MP + 8 MP Triple Rear &amp; 32 MP F...              13   \n",
              "\n",
              "         Price company   Inbuilt_memory       fast_charging Screen_resolution  \\\n",
              "1365    18,999     TCL    64 GB inbuilt   15W Fast Charging     720 x 1612 px   \n",
              "1366    24,990     TCL   128 GB inbuilt   33W Fast Charging    1200 x 2400 px   \n",
              "1367    23,990     TCL   256 GB inbuilt   18W Fast Charging     720 x 1612 px   \n",
              "1368    22,499     TCL   256 GB inbuilt   15W Fast Charging     720 x 1612 px   \n",
              "1369  1,19,990     TCL   256 GB inbuilt   67W Fast Charging    1916 x 2160 px   \n",
              "\n",
              "       Processor     Processor_name  \n",
              "1365   Octa Core   Dimensity 700 5G  \n",
              "1366   Octa Core     Dimensity 7050  \n",
              "1367   Octa Core     Dimensity 6080  \n",
              "1368   Octa Core     Dimensity 6020  \n",
              "1369   Octa Core  Snapdragon 8 Gen2  "
            ],
            "text/html": [
              "\n",
              "  <div id=\"df-7ed5ee95-ce9f-457a-89ee-2caf5c610dc9\" class=\"colab-df-container\">\n",
              "    <div>\n",
              "<style scoped>\n",
              "    .dataframe tbody tr th:only-of-type {\n",
              "        vertical-align: middle;\n",
              "    }\n",
              "\n",
              "    .dataframe tbody tr th {\n",
              "        vertical-align: top;\n",
              "    }\n",
              "\n",
              "    .dataframe thead th {\n",
              "        text-align: right;\n",
              "    }\n",
              "</style>\n",
              "<table border=\"1\" class=\"dataframe\">\n",
              "  <thead>\n",
              "    <tr style=\"text-align: right;\">\n",
              "      <th></th>\n",
              "      <th>Unnamed: 0</th>\n",
              "      <th>Name</th>\n",
              "      <th>Rating</th>\n",
              "      <th>Spec_score</th>\n",
              "      <th>No_of_sim</th>\n",
              "      <th>Ram</th>\n",
              "      <th>Battery</th>\n",
              "      <th>Display</th>\n",
              "      <th>Camera</th>\n",
              "      <th>External_Memory</th>\n",
              "      <th>Android_version</th>\n",
              "      <th>Price</th>\n",
              "      <th>company</th>\n",
              "      <th>Inbuilt_memory</th>\n",
              "      <th>fast_charging</th>\n",
              "      <th>Screen_resolution</th>\n",
              "      <th>Processor</th>\n",
              "      <th>Processor_name</th>\n",
              "    </tr>\n",
              "  </thead>\n",
              "  <tbody>\n",
              "    <tr>\n",
              "      <th>1365</th>\n",
              "      <td>1365</td>\n",
              "      <td>TCL 40R</td>\n",
              "      <td>4.05</td>\n",
              "      <td>75</td>\n",
              "      <td>Dual Sim, 3G, 4G, 5G, VoLTE,</td>\n",
              "      <td>4 GB RAM</td>\n",
              "      <td>5000 mAh Battery</td>\n",
              "      <td>6.6 inches</td>\n",
              "      <td>50 MP + 2 MP + 2 MP Triple Rear &amp;amp; 8 MP Fro...</td>\n",
              "      <td>Memory Card (Hybrid)</td>\n",
              "      <td>12</td>\n",
              "      <td>18,999</td>\n",
              "      <td>TCL</td>\n",
              "      <td>64 GB inbuilt</td>\n",
              "      <td>15W Fast Charging</td>\n",
              "      <td>720 x 1612 px</td>\n",
              "      <td>Octa Core</td>\n",
              "      <td>Dimensity 700 5G</td>\n",
              "    </tr>\n",
              "    <tr>\n",
              "      <th>1366</th>\n",
              "      <td>1366</td>\n",
              "      <td>TCL 50 XL NxtPaper 5G</td>\n",
              "      <td>4.10</td>\n",
              "      <td>80</td>\n",
              "      <td>Dual Sim, 3G, 4G, VoLTE,</td>\n",
              "      <td>8 GB RAM</td>\n",
              "      <td>5000 mAh Battery</td>\n",
              "      <td>6.8 inches</td>\n",
              "      <td>50 MP + 2 MP Dual Rear &amp;amp; 16 MP Front Camera</td>\n",
              "      <td>Memory Card (Hybrid)</td>\n",
              "      <td>14</td>\n",
              "      <td>24,990</td>\n",
              "      <td>TCL</td>\n",
              "      <td>128 GB inbuilt</td>\n",
              "      <td>33W Fast Charging</td>\n",
              "      <td>1200 x 2400 px</td>\n",
              "      <td>Octa Core</td>\n",
              "      <td>Dimensity 7050</td>\n",
              "    </tr>\n",
              "    <tr>\n",
              "      <th>1367</th>\n",
              "      <td>1367</td>\n",
              "      <td>TCL 50 XE NxtPaper 5G</td>\n",
              "      <td>4.00</td>\n",
              "      <td>80</td>\n",
              "      <td>Dual Sim, 3G, 4G, 5G, VoLTE,</td>\n",
              "      <td>6 GB RAM</td>\n",
              "      <td>5000 mAh Battery</td>\n",
              "      <td>6.6 inches</td>\n",
              "      <td>50 MP + 2 MP Dual Rear &amp;amp; 16 MP Front Camera</td>\n",
              "      <td>Memory Card Supported, upto 1 TB</td>\n",
              "      <td>13</td>\n",
              "      <td>23,990</td>\n",
              "      <td>TCL</td>\n",
              "      <td>256 GB inbuilt</td>\n",
              "      <td>18W Fast Charging</td>\n",
              "      <td>720 x 1612 px</td>\n",
              "      <td>Octa Core</td>\n",
              "      <td>Dimensity 6080</td>\n",
              "    </tr>\n",
              "    <tr>\n",
              "      <th>1368</th>\n",
              "      <td>1368</td>\n",
              "      <td>TCL 40 NxtPaper 5G</td>\n",
              "      <td>4.50</td>\n",
              "      <td>79</td>\n",
              "      <td>Dual Sim, 3G, 4G, 5G, VoLTE,</td>\n",
              "      <td>6 GB RAM</td>\n",
              "      <td>5000 mAh Battery</td>\n",
              "      <td>6.6 inches</td>\n",
              "      <td>50 MP + 2 MP + 2 MP Triple Rear &amp;amp; 8 MP Fro...</td>\n",
              "      <td>Memory Card Supported, upto 1 TB</td>\n",
              "      <td>13</td>\n",
              "      <td>22,499</td>\n",
              "      <td>TCL</td>\n",
              "      <td>256 GB inbuilt</td>\n",
              "      <td>15W Fast Charging</td>\n",
              "      <td>720 x 1612 px</td>\n",
              "      <td>Octa Core</td>\n",
              "      <td>Dimensity 6020</td>\n",
              "    </tr>\n",
              "    <tr>\n",
              "      <th>1369</th>\n",
              "      <td>1369</td>\n",
              "      <td>TCL Trifold</td>\n",
              "      <td>4.65</td>\n",
              "      <td>93</td>\n",
              "      <td>Dual Sim, 3G, 4G, 5G, VoLTE, Vo5G,</td>\n",
              "      <td>12 GB RAM</td>\n",
              "      <td>4600 mAh Battery</td>\n",
              "      <td>10 inches</td>\n",
              "      <td>Foldable Display, Dual Display</td>\n",
              "      <td>50 MP + 48 MP + 8 MP Triple Rear &amp;amp; 32 MP F...</td>\n",
              "      <td>13</td>\n",
              "      <td>1,19,990</td>\n",
              "      <td>TCL</td>\n",
              "      <td>256 GB inbuilt</td>\n",
              "      <td>67W Fast Charging</td>\n",
              "      <td>1916 x 2160 px</td>\n",
              "      <td>Octa Core</td>\n",
              "      <td>Snapdragon 8 Gen2</td>\n",
              "    </tr>\n",
              "  </tbody>\n",
              "</table>\n",
              "</div>\n",
              "    <div class=\"colab-df-buttons\">\n",
              "\n",
              "  <div class=\"colab-df-container\">\n",
              "    <button class=\"colab-df-convert\" onclick=\"convertToInteractive('df-7ed5ee95-ce9f-457a-89ee-2caf5c610dc9')\"\n",
              "            title=\"Convert this dataframe to an interactive table.\"\n",
              "            style=\"display:none;\">\n",
              "\n",
              "  <svg xmlns=\"http://www.w3.org/2000/svg\" height=\"24px\" viewBox=\"0 -960 960 960\">\n",
              "    <path d=\"M120-120v-720h720v720H120Zm60-500h600v-160H180v160Zm220 220h160v-160H400v160Zm0 220h160v-160H400v160ZM180-400h160v-160H180v160Zm440 0h160v-160H620v160ZM180-180h160v-160H180v160Zm440 0h160v-160H620v160Z\"/>\n",
              "  </svg>\n",
              "    </button>\n",
              "\n",
              "  <style>\n",
              "    .colab-df-container {\n",
              "      display:flex;\n",
              "      gap: 12px;\n",
              "    }\n",
              "\n",
              "    .colab-df-convert {\n",
              "      background-color: #E8F0FE;\n",
              "      border: none;\n",
              "      border-radius: 50%;\n",
              "      cursor: pointer;\n",
              "      display: none;\n",
              "      fill: #1967D2;\n",
              "      height: 32px;\n",
              "      padding: 0 0 0 0;\n",
              "      width: 32px;\n",
              "    }\n",
              "\n",
              "    .colab-df-convert:hover {\n",
              "      background-color: #E2EBFA;\n",
              "      box-shadow: 0px 1px 2px rgba(60, 64, 67, 0.3), 0px 1px 3px 1px rgba(60, 64, 67, 0.15);\n",
              "      fill: #174EA6;\n",
              "    }\n",
              "\n",
              "    .colab-df-buttons div {\n",
              "      margin-bottom: 4px;\n",
              "    }\n",
              "\n",
              "    [theme=dark] .colab-df-convert {\n",
              "      background-color: #3B4455;\n",
              "      fill: #D2E3FC;\n",
              "    }\n",
              "\n",
              "    [theme=dark] .colab-df-convert:hover {\n",
              "      background-color: #434B5C;\n",
              "      box-shadow: 0px 1px 3px 1px rgba(0, 0, 0, 0.15);\n",
              "      filter: drop-shadow(0px 1px 2px rgba(0, 0, 0, 0.3));\n",
              "      fill: #FFFFFF;\n",
              "    }\n",
              "  </style>\n",
              "\n",
              "    <script>\n",
              "      const buttonEl =\n",
              "        document.querySelector('#df-7ed5ee95-ce9f-457a-89ee-2caf5c610dc9 button.colab-df-convert');\n",
              "      buttonEl.style.display =\n",
              "        google.colab.kernel.accessAllowed ? 'block' : 'none';\n",
              "\n",
              "      async function convertToInteractive(key) {\n",
              "        const element = document.querySelector('#df-7ed5ee95-ce9f-457a-89ee-2caf5c610dc9');\n",
              "        const dataTable =\n",
              "          await google.colab.kernel.invokeFunction('convertToInteractive',\n",
              "                                                    [key], {});\n",
              "        if (!dataTable) return;\n",
              "\n",
              "        const docLinkHtml = 'Like what you see? Visit the ' +\n",
              "          '<a target=\"_blank\" href=https://colab.research.google.com/notebooks/data_table.ipynb>data table notebook</a>'\n",
              "          + ' to learn more about interactive tables.';\n",
              "        element.innerHTML = '';\n",
              "        dataTable['output_type'] = 'display_data';\n",
              "        await google.colab.output.renderOutput(dataTable, element);\n",
              "        const docLink = document.createElement('div');\n",
              "        docLink.innerHTML = docLinkHtml;\n",
              "        element.appendChild(docLink);\n",
              "      }\n",
              "    </script>\n",
              "  </div>\n",
              "\n",
              "\n",
              "<div id=\"df-4c02d244-fcb6-4514-810e-855e75b62ef9\">\n",
              "  <button class=\"colab-df-quickchart\" onclick=\"quickchart('df-4c02d244-fcb6-4514-810e-855e75b62ef9')\"\n",
              "            title=\"Suggest charts\"\n",
              "            style=\"display:none;\">\n",
              "\n",
              "<svg xmlns=\"http://www.w3.org/2000/svg\" height=\"24px\"viewBox=\"0 0 24 24\"\n",
              "     width=\"24px\">\n",
              "    <g>\n",
              "        <path d=\"M19 3H5c-1.1 0-2 .9-2 2v14c0 1.1.9 2 2 2h14c1.1 0 2-.9 2-2V5c0-1.1-.9-2-2-2zM9 17H7v-7h2v7zm4 0h-2V7h2v10zm4 0h-2v-4h2v4z\"/>\n",
              "    </g>\n",
              "</svg>\n",
              "  </button>\n",
              "\n",
              "<style>\n",
              "  .colab-df-quickchart {\n",
              "      --bg-color: #E8F0FE;\n",
              "      --fill-color: #1967D2;\n",
              "      --hover-bg-color: #E2EBFA;\n",
              "      --hover-fill-color: #174EA6;\n",
              "      --disabled-fill-color: #AAA;\n",
              "      --disabled-bg-color: #DDD;\n",
              "  }\n",
              "\n",
              "  [theme=dark] .colab-df-quickchart {\n",
              "      --bg-color: #3B4455;\n",
              "      --fill-color: #D2E3FC;\n",
              "      --hover-bg-color: #434B5C;\n",
              "      --hover-fill-color: #FFFFFF;\n",
              "      --disabled-bg-color: #3B4455;\n",
              "      --disabled-fill-color: #666;\n",
              "  }\n",
              "\n",
              "  .colab-df-quickchart {\n",
              "    background-color: var(--bg-color);\n",
              "    border: none;\n",
              "    border-radius: 50%;\n",
              "    cursor: pointer;\n",
              "    display: none;\n",
              "    fill: var(--fill-color);\n",
              "    height: 32px;\n",
              "    padding: 0;\n",
              "    width: 32px;\n",
              "  }\n",
              "\n",
              "  .colab-df-quickchart:hover {\n",
              "    background-color: var(--hover-bg-color);\n",
              "    box-shadow: 0 1px 2px rgba(60, 64, 67, 0.3), 0 1px 3px 1px rgba(60, 64, 67, 0.15);\n",
              "    fill: var(--button-hover-fill-color);\n",
              "  }\n",
              "\n",
              "  .colab-df-quickchart-complete:disabled,\n",
              "  .colab-df-quickchart-complete:disabled:hover {\n",
              "    background-color: var(--disabled-bg-color);\n",
              "    fill: var(--disabled-fill-color);\n",
              "    box-shadow: none;\n",
              "  }\n",
              "\n",
              "  .colab-df-spinner {\n",
              "    border: 2px solid var(--fill-color);\n",
              "    border-color: transparent;\n",
              "    border-bottom-color: var(--fill-color);\n",
              "    animation:\n",
              "      spin 1s steps(1) infinite;\n",
              "  }\n",
              "\n",
              "  @keyframes spin {\n",
              "    0% {\n",
              "      border-color: transparent;\n",
              "      border-bottom-color: var(--fill-color);\n",
              "      border-left-color: var(--fill-color);\n",
              "    }\n",
              "    20% {\n",
              "      border-color: transparent;\n",
              "      border-left-color: var(--fill-color);\n",
              "      border-top-color: var(--fill-color);\n",
              "    }\n",
              "    30% {\n",
              "      border-color: transparent;\n",
              "      border-left-color: var(--fill-color);\n",
              "      border-top-color: var(--fill-color);\n",
              "      border-right-color: var(--fill-color);\n",
              "    }\n",
              "    40% {\n",
              "      border-color: transparent;\n",
              "      border-right-color: var(--fill-color);\n",
              "      border-top-color: var(--fill-color);\n",
              "    }\n",
              "    60% {\n",
              "      border-color: transparent;\n",
              "      border-right-color: var(--fill-color);\n",
              "    }\n",
              "    80% {\n",
              "      border-color: transparent;\n",
              "      border-right-color: var(--fill-color);\n",
              "      border-bottom-color: var(--fill-color);\n",
              "    }\n",
              "    90% {\n",
              "      border-color: transparent;\n",
              "      border-bottom-color: var(--fill-color);\n",
              "    }\n",
              "  }\n",
              "</style>\n",
              "\n",
              "  <script>\n",
              "    async function quickchart(key) {\n",
              "      const quickchartButtonEl =\n",
              "        document.querySelector('#' + key + ' button');\n",
              "      quickchartButtonEl.disabled = true;  // To prevent multiple clicks.\n",
              "      quickchartButtonEl.classList.add('colab-df-spinner');\n",
              "      try {\n",
              "        const charts = await google.colab.kernel.invokeFunction(\n",
              "            'suggestCharts', [key], {});\n",
              "      } catch (error) {\n",
              "        console.error('Error during call to suggestCharts:', error);\n",
              "      }\n",
              "      quickchartButtonEl.classList.remove('colab-df-spinner');\n",
              "      quickchartButtonEl.classList.add('colab-df-quickchart-complete');\n",
              "    }\n",
              "    (() => {\n",
              "      let quickchartButtonEl =\n",
              "        document.querySelector('#df-4c02d244-fcb6-4514-810e-855e75b62ef9 button');\n",
              "      quickchartButtonEl.style.display =\n",
              "        google.colab.kernel.accessAllowed ? 'block' : 'none';\n",
              "    })();\n",
              "  </script>\n",
              "</div>\n",
              "\n",
              "    </div>\n",
              "  </div>\n"
            ],
            "application/vnd.google.colaboratory.intrinsic+json": {
              "type": "dataframe",
              "summary": "{\n  \"name\": \"df\",\n  \"rows\": 5,\n  \"fields\": [\n    {\n      \"column\": \"Unnamed: 0\",\n      \"properties\": {\n        \"dtype\": \"number\",\n        \"std\": 1,\n        \"min\": 1365,\n        \"max\": 1369,\n        \"num_unique_values\": 5,\n        \"samples\": [\n          1366,\n          1369,\n          1367\n        ],\n        \"semantic_type\": \"\",\n        \"description\": \"\"\n      }\n    },\n    {\n      \"column\": \"Name\",\n      \"properties\": {\n        \"dtype\": \"string\",\n        \"num_unique_values\": 5,\n        \"samples\": [\n          \"TCL 50 XL NxtPaper 5G\",\n          \"TCL Trifold\",\n          \"TCL 50 XE NxtPaper 5G\"\n        ],\n        \"semantic_type\": \"\",\n        \"description\": \"\"\n      }\n    },\n    {\n      \"column\": \"Rating\",\n      \"properties\": {\n        \"dtype\": \"number\",\n        \"std\": 0.294533529500463,\n        \"min\": 4.0,\n        \"max\": 4.65,\n        \"num_unique_values\": 5,\n        \"samples\": [\n          4.1,\n          4.65,\n          4.0\n        ],\n        \"semantic_type\": \"\",\n        \"description\": \"\"\n      }\n    },\n    {\n      \"column\": \"Spec_score\",\n      \"properties\": {\n        \"dtype\": \"number\",\n        \"std\": 6,\n        \"min\": 75,\n        \"max\": 93,\n        \"num_unique_values\": 4,\n        \"samples\": [\n          80,\n          93,\n          75\n        ],\n        \"semantic_type\": \"\",\n        \"description\": \"\"\n      }\n    },\n    {\n      \"column\": \"No_of_sim\",\n      \"properties\": {\n        \"dtype\": \"string\",\n        \"num_unique_values\": 3,\n        \"samples\": [\n          \"Dual Sim, 3G, 4G, 5G, VoLTE, \",\n          \"Dual Sim, 3G, 4G, VoLTE, \",\n          \"Dual Sim, 3G, 4G, 5G, VoLTE, Vo5G, \"\n        ],\n        \"semantic_type\": \"\",\n        \"description\": \"\"\n      }\n    },\n    {\n      \"column\": \"Ram\",\n      \"properties\": {\n        \"dtype\": \"string\",\n        \"num_unique_values\": 4,\n        \"samples\": [\n          \"8 GB RAM\",\n          \"12 GB RAM\",\n          \"4 GB RAM\"\n        ],\n        \"semantic_type\": \"\",\n        \"description\": \"\"\n      }\n    },\n    {\n      \"column\": \"Battery\",\n      \"properties\": {\n        \"dtype\": \"category\",\n        \"num_unique_values\": 2,\n        \"samples\": [\n          \"4600 mAh Battery \",\n          \"5000 mAh Battery \"\n        ],\n        \"semantic_type\": \"\",\n        \"description\": \"\"\n      }\n    },\n    {\n      \"column\": \"Display\",\n      \"properties\": {\n        \"dtype\": \"string\",\n        \"num_unique_values\": 3,\n        \"samples\": [\n          \"6.6 inches\",\n          \"6.8 inches\"\n        ],\n        \"semantic_type\": \"\",\n        \"description\": \"\"\n      }\n    },\n    {\n      \"column\": \"Camera\",\n      \"properties\": {\n        \"dtype\": \"string\",\n        \"num_unique_values\": 3,\n        \"samples\": [\n          \"50 MP + 2 MP + 2 MP Triple Rear &amp; 8 MP Front Camera\",\n          \"50 MP + 2 MP Dual Rear &amp; 16 MP Front Camera\"\n        ],\n        \"semantic_type\": \"\",\n        \"description\": \"\"\n      }\n    },\n    {\n      \"column\": \"External_Memory\",\n      \"properties\": {\n        \"dtype\": \"string\",\n        \"num_unique_values\": 3,\n        \"samples\": [\n          \"Memory Card (Hybrid)\",\n          \"Memory Card Supported, upto 1 TB\"\n        ],\n        \"semantic_type\": \"\",\n        \"description\": \"\"\n      }\n    },\n    {\n      \"column\": \"Android_version\",\n      \"properties\": {\n        \"dtype\": \"string\",\n        \"num_unique_values\": 3,\n        \"samples\": [\n          \"12\",\n          \"14\"\n        ],\n        \"semantic_type\": \"\",\n        \"description\": \"\"\n      }\n    },\n    {\n      \"column\": \"Price\",\n      \"properties\": {\n        \"dtype\": \"string\",\n        \"num_unique_values\": 5,\n        \"samples\": [\n          \"24,990\",\n          \"1,19,990\"\n        ],\n        \"semantic_type\": \"\",\n        \"description\": \"\"\n      }\n    },\n    {\n      \"column\": \"company\",\n      \"properties\": {\n        \"dtype\": \"category\",\n        \"num_unique_values\": 1,\n        \"samples\": [\n          \"TCL\"\n        ],\n        \"semantic_type\": \"\",\n        \"description\": \"\"\n      }\n    },\n    {\n      \"column\": \"Inbuilt_memory\",\n      \"properties\": {\n        \"dtype\": \"string\",\n        \"num_unique_values\": 3,\n        \"samples\": [\n          \" 64 GB inbuilt\"\n        ],\n        \"semantic_type\": \"\",\n        \"description\": \"\"\n      }\n    },\n    {\n      \"column\": \"fast_charging\",\n      \"properties\": {\n        \"dtype\": \"string\",\n        \"num_unique_values\": 4,\n        \"samples\": [\n          \" 33W Fast Charging\"\n        ],\n        \"semantic_type\": \"\",\n        \"description\": \"\"\n      }\n    },\n    {\n      \"column\": \"Screen_resolution\",\n      \"properties\": {\n        \"dtype\": \"string\",\n        \"num_unique_values\": 3,\n        \"samples\": [\n          \" 720 x 1612 px\"\n        ],\n        \"semantic_type\": \"\",\n        \"description\": \"\"\n      }\n    },\n    {\n      \"column\": \"Processor\",\n      \"properties\": {\n        \"dtype\": \"category\",\n        \"num_unique_values\": 1,\n        \"samples\": [\n          \" Octa Core\"\n        ],\n        \"semantic_type\": \"\",\n        \"description\": \"\"\n      }\n    },\n    {\n      \"column\": \"Processor_name\",\n      \"properties\": {\n        \"dtype\": \"string\",\n        \"num_unique_values\": 5,\n        \"samples\": [\n          \"Dimensity 7050\"\n        ],\n        \"semantic_type\": \"\",\n        \"description\": \"\"\n      }\n    }\n  ]\n}"
            }
          },
          "metadata": {},
          "execution_count": 115
        }
      ]
    },
    {
      "cell_type": "code",
      "source": [
        "df.dtypes"
      ],
      "metadata": {
        "colab": {
          "base_uri": "https://localhost:8080/"
        },
        "id": "d-9pwwHG0pP_",
        "outputId": "3cb22fb6-8e62-4743-85ad-8bdb69661d82"
      },
      "execution_count": null,
      "outputs": [
        {
          "output_type": "execute_result",
          "data": {
            "text/plain": [
              "Unnamed: 0             int64\n",
              "Name                  object\n",
              "Rating               float64\n",
              "Spec_score             int64\n",
              "No_of_sim             object\n",
              "Ram                   object\n",
              "Battery               object\n",
              "Display               object\n",
              "Camera                object\n",
              "External_Memory       object\n",
              "Android_version       object\n",
              "Price                 object\n",
              "company               object\n",
              "Inbuilt_memory        object\n",
              "fast_charging         object\n",
              "Screen_resolution     object\n",
              "Processor             object\n",
              "Processor_name        object\n",
              "dtype: object"
            ]
          },
          "metadata": {},
          "execution_count": 116
        }
      ]
    },
    {
      "cell_type": "code",
      "source": [
        "df.describe()"
      ],
      "metadata": {
        "colab": {
          "base_uri": "https://localhost:8080/",
          "height": 300
        },
        "id": "xDr48KCH0k9w",
        "outputId": "9b9a0316-6e14-4470-d249-ad7b6bcbbeec"
      },
      "execution_count": null,
      "outputs": [
        {
          "output_type": "execute_result",
          "data": {
            "text/plain": [
              "        Unnamed: 0       Rating   Spec_score\n",
              "count  1370.000000  1370.000000  1370.000000\n",
              "mean    684.500000     4.374416    80.234307\n",
              "std     395.629246     0.230176     8.373922\n",
              "min       0.000000     3.750000    42.000000\n",
              "25%     342.250000     4.150000    75.000000\n",
              "50%     684.500000     4.400000    82.000000\n",
              "75%    1026.750000     4.550000    86.000000\n",
              "max    1369.000000     4.750000    98.000000"
            ],
            "text/html": [
              "\n",
              "  <div id=\"df-c635d734-8d91-4f14-a24d-591a0494f950\" class=\"colab-df-container\">\n",
              "    <div>\n",
              "<style scoped>\n",
              "    .dataframe tbody tr th:only-of-type {\n",
              "        vertical-align: middle;\n",
              "    }\n",
              "\n",
              "    .dataframe tbody tr th {\n",
              "        vertical-align: top;\n",
              "    }\n",
              "\n",
              "    .dataframe thead th {\n",
              "        text-align: right;\n",
              "    }\n",
              "</style>\n",
              "<table border=\"1\" class=\"dataframe\">\n",
              "  <thead>\n",
              "    <tr style=\"text-align: right;\">\n",
              "      <th></th>\n",
              "      <th>Unnamed: 0</th>\n",
              "      <th>Rating</th>\n",
              "      <th>Spec_score</th>\n",
              "    </tr>\n",
              "  </thead>\n",
              "  <tbody>\n",
              "    <tr>\n",
              "      <th>count</th>\n",
              "      <td>1370.000000</td>\n",
              "      <td>1370.000000</td>\n",
              "      <td>1370.000000</td>\n",
              "    </tr>\n",
              "    <tr>\n",
              "      <th>mean</th>\n",
              "      <td>684.500000</td>\n",
              "      <td>4.374416</td>\n",
              "      <td>80.234307</td>\n",
              "    </tr>\n",
              "    <tr>\n",
              "      <th>std</th>\n",
              "      <td>395.629246</td>\n",
              "      <td>0.230176</td>\n",
              "      <td>8.373922</td>\n",
              "    </tr>\n",
              "    <tr>\n",
              "      <th>min</th>\n",
              "      <td>0.000000</td>\n",
              "      <td>3.750000</td>\n",
              "      <td>42.000000</td>\n",
              "    </tr>\n",
              "    <tr>\n",
              "      <th>25%</th>\n",
              "      <td>342.250000</td>\n",
              "      <td>4.150000</td>\n",
              "      <td>75.000000</td>\n",
              "    </tr>\n",
              "    <tr>\n",
              "      <th>50%</th>\n",
              "      <td>684.500000</td>\n",
              "      <td>4.400000</td>\n",
              "      <td>82.000000</td>\n",
              "    </tr>\n",
              "    <tr>\n",
              "      <th>75%</th>\n",
              "      <td>1026.750000</td>\n",
              "      <td>4.550000</td>\n",
              "      <td>86.000000</td>\n",
              "    </tr>\n",
              "    <tr>\n",
              "      <th>max</th>\n",
              "      <td>1369.000000</td>\n",
              "      <td>4.750000</td>\n",
              "      <td>98.000000</td>\n",
              "    </tr>\n",
              "  </tbody>\n",
              "</table>\n",
              "</div>\n",
              "    <div class=\"colab-df-buttons\">\n",
              "\n",
              "  <div class=\"colab-df-container\">\n",
              "    <button class=\"colab-df-convert\" onclick=\"convertToInteractive('df-c635d734-8d91-4f14-a24d-591a0494f950')\"\n",
              "            title=\"Convert this dataframe to an interactive table.\"\n",
              "            style=\"display:none;\">\n",
              "\n",
              "  <svg xmlns=\"http://www.w3.org/2000/svg\" height=\"24px\" viewBox=\"0 -960 960 960\">\n",
              "    <path d=\"M120-120v-720h720v720H120Zm60-500h600v-160H180v160Zm220 220h160v-160H400v160Zm0 220h160v-160H400v160ZM180-400h160v-160H180v160Zm440 0h160v-160H620v160ZM180-180h160v-160H180v160Zm440 0h160v-160H620v160Z\"/>\n",
              "  </svg>\n",
              "    </button>\n",
              "\n",
              "  <style>\n",
              "    .colab-df-container {\n",
              "      display:flex;\n",
              "      gap: 12px;\n",
              "    }\n",
              "\n",
              "    .colab-df-convert {\n",
              "      background-color: #E8F0FE;\n",
              "      border: none;\n",
              "      border-radius: 50%;\n",
              "      cursor: pointer;\n",
              "      display: none;\n",
              "      fill: #1967D2;\n",
              "      height: 32px;\n",
              "      padding: 0 0 0 0;\n",
              "      width: 32px;\n",
              "    }\n",
              "\n",
              "    .colab-df-convert:hover {\n",
              "      background-color: #E2EBFA;\n",
              "      box-shadow: 0px 1px 2px rgba(60, 64, 67, 0.3), 0px 1px 3px 1px rgba(60, 64, 67, 0.15);\n",
              "      fill: #174EA6;\n",
              "    }\n",
              "\n",
              "    .colab-df-buttons div {\n",
              "      margin-bottom: 4px;\n",
              "    }\n",
              "\n",
              "    [theme=dark] .colab-df-convert {\n",
              "      background-color: #3B4455;\n",
              "      fill: #D2E3FC;\n",
              "    }\n",
              "\n",
              "    [theme=dark] .colab-df-convert:hover {\n",
              "      background-color: #434B5C;\n",
              "      box-shadow: 0px 1px 3px 1px rgba(0, 0, 0, 0.15);\n",
              "      filter: drop-shadow(0px 1px 2px rgba(0, 0, 0, 0.3));\n",
              "      fill: #FFFFFF;\n",
              "    }\n",
              "  </style>\n",
              "\n",
              "    <script>\n",
              "      const buttonEl =\n",
              "        document.querySelector('#df-c635d734-8d91-4f14-a24d-591a0494f950 button.colab-df-convert');\n",
              "      buttonEl.style.display =\n",
              "        google.colab.kernel.accessAllowed ? 'block' : 'none';\n",
              "\n",
              "      async function convertToInteractive(key) {\n",
              "        const element = document.querySelector('#df-c635d734-8d91-4f14-a24d-591a0494f950');\n",
              "        const dataTable =\n",
              "          await google.colab.kernel.invokeFunction('convertToInteractive',\n",
              "                                                    [key], {});\n",
              "        if (!dataTable) return;\n",
              "\n",
              "        const docLinkHtml = 'Like what you see? Visit the ' +\n",
              "          '<a target=\"_blank\" href=https://colab.research.google.com/notebooks/data_table.ipynb>data table notebook</a>'\n",
              "          + ' to learn more about interactive tables.';\n",
              "        element.innerHTML = '';\n",
              "        dataTable['output_type'] = 'display_data';\n",
              "        await google.colab.output.renderOutput(dataTable, element);\n",
              "        const docLink = document.createElement('div');\n",
              "        docLink.innerHTML = docLinkHtml;\n",
              "        element.appendChild(docLink);\n",
              "      }\n",
              "    </script>\n",
              "  </div>\n",
              "\n",
              "\n",
              "<div id=\"df-62c10c9c-41bc-4770-bfa1-c8d5ec129c72\">\n",
              "  <button class=\"colab-df-quickchart\" onclick=\"quickchart('df-62c10c9c-41bc-4770-bfa1-c8d5ec129c72')\"\n",
              "            title=\"Suggest charts\"\n",
              "            style=\"display:none;\">\n",
              "\n",
              "<svg xmlns=\"http://www.w3.org/2000/svg\" height=\"24px\"viewBox=\"0 0 24 24\"\n",
              "     width=\"24px\">\n",
              "    <g>\n",
              "        <path d=\"M19 3H5c-1.1 0-2 .9-2 2v14c0 1.1.9 2 2 2h14c1.1 0 2-.9 2-2V5c0-1.1-.9-2-2-2zM9 17H7v-7h2v7zm4 0h-2V7h2v10zm4 0h-2v-4h2v4z\"/>\n",
              "    </g>\n",
              "</svg>\n",
              "  </button>\n",
              "\n",
              "<style>\n",
              "  .colab-df-quickchart {\n",
              "      --bg-color: #E8F0FE;\n",
              "      --fill-color: #1967D2;\n",
              "      --hover-bg-color: #E2EBFA;\n",
              "      --hover-fill-color: #174EA6;\n",
              "      --disabled-fill-color: #AAA;\n",
              "      --disabled-bg-color: #DDD;\n",
              "  }\n",
              "\n",
              "  [theme=dark] .colab-df-quickchart {\n",
              "      --bg-color: #3B4455;\n",
              "      --fill-color: #D2E3FC;\n",
              "      --hover-bg-color: #434B5C;\n",
              "      --hover-fill-color: #FFFFFF;\n",
              "      --disabled-bg-color: #3B4455;\n",
              "      --disabled-fill-color: #666;\n",
              "  }\n",
              "\n",
              "  .colab-df-quickchart {\n",
              "    background-color: var(--bg-color);\n",
              "    border: none;\n",
              "    border-radius: 50%;\n",
              "    cursor: pointer;\n",
              "    display: none;\n",
              "    fill: var(--fill-color);\n",
              "    height: 32px;\n",
              "    padding: 0;\n",
              "    width: 32px;\n",
              "  }\n",
              "\n",
              "  .colab-df-quickchart:hover {\n",
              "    background-color: var(--hover-bg-color);\n",
              "    box-shadow: 0 1px 2px rgba(60, 64, 67, 0.3), 0 1px 3px 1px rgba(60, 64, 67, 0.15);\n",
              "    fill: var(--button-hover-fill-color);\n",
              "  }\n",
              "\n",
              "  .colab-df-quickchart-complete:disabled,\n",
              "  .colab-df-quickchart-complete:disabled:hover {\n",
              "    background-color: var(--disabled-bg-color);\n",
              "    fill: var(--disabled-fill-color);\n",
              "    box-shadow: none;\n",
              "  }\n",
              "\n",
              "  .colab-df-spinner {\n",
              "    border: 2px solid var(--fill-color);\n",
              "    border-color: transparent;\n",
              "    border-bottom-color: var(--fill-color);\n",
              "    animation:\n",
              "      spin 1s steps(1) infinite;\n",
              "  }\n",
              "\n",
              "  @keyframes spin {\n",
              "    0% {\n",
              "      border-color: transparent;\n",
              "      border-bottom-color: var(--fill-color);\n",
              "      border-left-color: var(--fill-color);\n",
              "    }\n",
              "    20% {\n",
              "      border-color: transparent;\n",
              "      border-left-color: var(--fill-color);\n",
              "      border-top-color: var(--fill-color);\n",
              "    }\n",
              "    30% {\n",
              "      border-color: transparent;\n",
              "      border-left-color: var(--fill-color);\n",
              "      border-top-color: var(--fill-color);\n",
              "      border-right-color: var(--fill-color);\n",
              "    }\n",
              "    40% {\n",
              "      border-color: transparent;\n",
              "      border-right-color: var(--fill-color);\n",
              "      border-top-color: var(--fill-color);\n",
              "    }\n",
              "    60% {\n",
              "      border-color: transparent;\n",
              "      border-right-color: var(--fill-color);\n",
              "    }\n",
              "    80% {\n",
              "      border-color: transparent;\n",
              "      border-right-color: var(--fill-color);\n",
              "      border-bottom-color: var(--fill-color);\n",
              "    }\n",
              "    90% {\n",
              "      border-color: transparent;\n",
              "      border-bottom-color: var(--fill-color);\n",
              "    }\n",
              "  }\n",
              "</style>\n",
              "\n",
              "  <script>\n",
              "    async function quickchart(key) {\n",
              "      const quickchartButtonEl =\n",
              "        document.querySelector('#' + key + ' button');\n",
              "      quickchartButtonEl.disabled = true;  // To prevent multiple clicks.\n",
              "      quickchartButtonEl.classList.add('colab-df-spinner');\n",
              "      try {\n",
              "        const charts = await google.colab.kernel.invokeFunction(\n",
              "            'suggestCharts', [key], {});\n",
              "      } catch (error) {\n",
              "        console.error('Error during call to suggestCharts:', error);\n",
              "      }\n",
              "      quickchartButtonEl.classList.remove('colab-df-spinner');\n",
              "      quickchartButtonEl.classList.add('colab-df-quickchart-complete');\n",
              "    }\n",
              "    (() => {\n",
              "      let quickchartButtonEl =\n",
              "        document.querySelector('#df-62c10c9c-41bc-4770-bfa1-c8d5ec129c72 button');\n",
              "      quickchartButtonEl.style.display =\n",
              "        google.colab.kernel.accessAllowed ? 'block' : 'none';\n",
              "    })();\n",
              "  </script>\n",
              "</div>\n",
              "\n",
              "    </div>\n",
              "  </div>\n"
            ],
            "application/vnd.google.colaboratory.intrinsic+json": {
              "type": "dataframe",
              "summary": "{\n  \"name\": \"df\",\n  \"rows\": 8,\n  \"fields\": [\n    {\n      \"column\": \"Unnamed: 0\",\n      \"properties\": {\n        \"dtype\": \"number\",\n        \"std\": 493.53576262331666,\n        \"min\": 0.0,\n        \"max\": 1370.0,\n        \"num_unique_values\": 7,\n        \"samples\": [\n          1370.0,\n          684.5,\n          1026.75\n        ],\n        \"semantic_type\": \"\",\n        \"description\": \"\"\n      }\n    },\n    {\n      \"column\": \"Rating\",\n      \"properties\": {\n        \"dtype\": \"number\",\n        \"std\": 483.04683161653617,\n        \"min\": 0.2301756924899598,\n        \"max\": 1370.0,\n        \"num_unique_values\": 8,\n        \"samples\": [\n          4.374416058394161,\n          4.4,\n          1370.0\n        ],\n        \"semantic_type\": \"\",\n        \"description\": \"\"\n      }\n    },\n    {\n      \"column\": \"Spec_score\",\n      \"properties\": {\n        \"dtype\": \"number\",\n        \"std\": 461.45430949760504,\n        \"min\": 8.37392155180379,\n        \"max\": 1370.0,\n        \"num_unique_values\": 8,\n        \"samples\": [\n          80.23430656934306,\n          82.0,\n          1370.0\n        ],\n        \"semantic_type\": \"\",\n        \"description\": \"\"\n      }\n    }\n  ]\n}"
            }
          },
          "metadata": {},
          "execution_count": 117
        }
      ]
    },
    {
      "cell_type": "code",
      "source": [
        "df.isna().sum()"
      ],
      "metadata": {
        "colab": {
          "base_uri": "https://localhost:8080/"
        },
        "id": "Pn_BYZrytlDZ",
        "outputId": "74ea5680-3bc9-4d3f-b962-84752b230344"
      },
      "execution_count": null,
      "outputs": [
        {
          "output_type": "execute_result",
          "data": {
            "text/plain": [
              "Unnamed: 0             0\n",
              "Name                   0\n",
              "Rating                 0\n",
              "Spec_score             0\n",
              "No_of_sim              0\n",
              "Ram                    0\n",
              "Battery                0\n",
              "Display                0\n",
              "Camera                 0\n",
              "External_Memory        0\n",
              "Android_version      443\n",
              "Price                  0\n",
              "company                0\n",
              "Inbuilt_memory        19\n",
              "fast_charging         89\n",
              "Screen_resolution      2\n",
              "Processor             28\n",
              "Processor_name         0\n",
              "dtype: int64"
            ]
          },
          "metadata": {},
          "execution_count": 118
        }
      ]
    },
    {
      "cell_type": "code",
      "source": [
        "df.shape"
      ],
      "metadata": {
        "colab": {
          "base_uri": "https://localhost:8080/"
        },
        "id": "1fv8PuAMtoyn",
        "outputId": "1a1c9109-14b1-4ad1-e58f-b06fcc311c63"
      },
      "execution_count": null,
      "outputs": [
        {
          "output_type": "execute_result",
          "data": {
            "text/plain": [
              "(1370, 18)"
            ]
          },
          "metadata": {},
          "execution_count": 119
        }
      ]
    },
    {
      "cell_type": "code",
      "source": [
        "df=df.dropna()"
      ],
      "metadata": {
        "id": "rF0AgDlQt2yi"
      },
      "execution_count": null,
      "outputs": []
    },
    {
      "cell_type": "code",
      "source": [
        "df.shape"
      ],
      "metadata": {
        "colab": {
          "base_uri": "https://localhost:8080/"
        },
        "id": "ZC2M7KEAt5EJ",
        "outputId": "a5f892c5-7507-4d94-c9a5-46753997ef35"
      },
      "execution_count": null,
      "outputs": [
        {
          "output_type": "execute_result",
          "data": {
            "text/plain": [
              "(817, 18)"
            ]
          },
          "metadata": {},
          "execution_count": 121
        }
      ]
    },
    {
      "cell_type": "code",
      "source": [
        "df.isna().sum()"
      ],
      "metadata": {
        "colab": {
          "base_uri": "https://localhost:8080/"
        },
        "id": "SpTVkxQNt6M5",
        "outputId": "d5a6798e-7531-4d8e-b9dd-3df14c0a0bc9"
      },
      "execution_count": null,
      "outputs": [
        {
          "output_type": "execute_result",
          "data": {
            "text/plain": [
              "Unnamed: 0           0\n",
              "Name                 0\n",
              "Rating               0\n",
              "Spec_score           0\n",
              "No_of_sim            0\n",
              "Ram                  0\n",
              "Battery              0\n",
              "Display              0\n",
              "Camera               0\n",
              "External_Memory      0\n",
              "Android_version      0\n",
              "Price                0\n",
              "company              0\n",
              "Inbuilt_memory       0\n",
              "fast_charging        0\n",
              "Screen_resolution    0\n",
              "Processor            0\n",
              "Processor_name       0\n",
              "dtype: int64"
            ]
          },
          "metadata": {},
          "execution_count": 122
        }
      ]
    },
    {
      "cell_type": "code",
      "source": [
        "df.boxplot()"
      ],
      "metadata": {
        "colab": {
          "base_uri": "https://localhost:8080/",
          "height": 447
        },
        "id": "7var5i7427bV",
        "outputId": "c8e76ef3-d4e8-44b7-b518-20e6d3f75cdb"
      },
      "execution_count": null,
      "outputs": [
        {
          "output_type": "execute_result",
          "data": {
            "text/plain": [
              "<Axes: >"
            ]
          },
          "metadata": {},
          "execution_count": 123
        },
        {
          "output_type": "display_data",
          "data": {
            "text/plain": [
              "<Figure size 640x480 with 1 Axes>"
            ],
            "image/png": "[encoded data removed]"
          },
          "metadata": {}
        }
      ]
    },
    {
      "cell_type": "code",
      "source": [],
      "metadata": {
        "id": "3Epg5ZK34YJN"
      },
      "execution_count": null,
      "outputs": []
    },
    {
      "cell_type": "code",
      "source": [
        "plt.scatter(df.Spec_score,df.Rating)"
      ],
      "metadata": {
        "colab": {
          "base_uri": "https://localhost:8080/",
          "height": 447
        },
        "id": "pzYDq4D60zk_",
        "outputId": "eb33b87a-6232-47d2-f190-7ef04d801c55"
      },
      "execution_count": null,
      "outputs": [
        {
          "output_type": "execute_result",
          "data": {
            "text/plain": [
              "<matplotlib.collections.PathCollection at 0x7db34bba8e50>"
            ]
          },
          "metadata": {},
          "execution_count": 124
        },
        {
          "output_type": "display_data",
          "data": {
            "text/plain": [
              "<Figure size 640x480 with 1 Axes>"
            ],
            "image/png": "[encoded data removed]"
          },
          "metadata": {}
        }
      ]
    },
    {
      "cell_type": "code",
      "source": [
        "plt.hist(df.Spec_score)"
      ],
      "metadata": {
        "colab": {
          "base_uri": "https://localhost:8080/",
          "height": 482
        },
        "id": "kES13ZmA1yN-",
        "outputId": "d0ea72ec-122e-4259-ed15-27856d89a22a"
      },
      "execution_count": null,
      "outputs": [
        {
          "output_type": "execute_result",
          "data": {
            "text/plain": [
              "(array([  4.,   4.,  29.,  53., 178., 132., 200., 129.,  72.,  16.]),\n",
              " array([53. , 57.5, 62. , 66.5, 71. , 75.5, 80. , 84.5, 89. , 93.5, 98. ]),\n",
              " <BarContainer object of 10 artists>)"
            ]
          },
          "metadata": {},
          "execution_count": 125
        },
        {
          "output_type": "display_data",
          "data": {
            "text/plain": [
              "<Figure size 640x480 with 1 Axes>"
            ],
            "image/png": "[encoded data removed]"
          },
          "metadata": {}
        }
      ]
    },
    {
      "cell_type": "code",
      "source": [
        "plt.hist(df.Rating)"
      ],
      "metadata": {
        "colab": {
          "base_uri": "https://localhost:8080/",
          "height": 499
        },
        "id": "4AopXqqW1cNy",
        "outputId": "fae74584-66fc-4cd1-bfd5-63ef47664b1b"
      },
      "execution_count": null,
      "outputs": [
        {
          "output_type": "execute_result",
          "data": {
            "text/plain": [
              "(array([  9.,  96., 100.,  47., 104., 117.,  44., 110., 104.,  86.]),\n",
              " array([3.9  , 3.985, 4.07 , 4.155, 4.24 , 4.325, 4.41 , 4.495, 4.58 ,\n",
              "        4.665, 4.75 ]),\n",
              " <BarContainer object of 10 artists>)"
            ]
          },
          "metadata": {},
          "execution_count": 126
        },
        {
          "output_type": "display_data",
          "data": {
            "text/plain": [
              "<Figure size 640x480 with 1 Axes>"
            ],
            "image/png": "[encoded data removed]"
          },
          "metadata": {}
        }
      ]
    },
    {
      "cell_type": "code",
      "source": [
        "sns.barplot(df)"
      ],
      "metadata": {
        "colab": {
          "base_uri": "https://localhost:8080/",
          "height": 447
        },
        "id": "W_B5BN3M7yy1",
        "outputId": "4061d24e-2eea-4449-8ef6-f36788fbc9f4"
      },
      "execution_count": null,
      "outputs": [
        {
          "output_type": "execute_result",
          "data": {
            "text/plain": [
              "<Axes: >"
            ]
          },
          "metadata": {},
          "execution_count": 147
        },
        {
          "output_type": "display_data",
          "data": {
            "text/plain": [
              "<Figure size 640x480 with 1 Axes>"
            ],
            "image/png": "[encoded data removed]"
          },
          "metadata": {}
        }
      ]
    },
    {
      "cell_type": "code",
      "source": [
        "X=df.Spec_score"
      ],
      "metadata": {
        "id": "64FYGmIfucqa"
      },
      "execution_count": null,
      "outputs": []
    },
    {
      "cell_type": "code",
      "source": [
        "y=df['Price'].str.replace(\",\",\"\").astype(int)"
      ],
      "metadata": {
        "id": "XqXp0wVCum1h"
      },
      "execution_count": null,
      "outputs": []
    },
    {
      "cell_type": "code",
      "source": [
        "plt.scatter(X,y)"
      ],
      "metadata": {
        "colab": {
          "base_uri": "https://localhost:8080/",
          "height": 447
        },
        "id": "yzDFAPAN2on-",
        "outputId": "e4bb504e-c599-46a0-abfa-82730799118c"
      },
      "execution_count": null,
      "outputs": [
        {
          "output_type": "execute_result",
          "data": {
            "text/plain": [
              "<matplotlib.collections.PathCollection at 0x7db34a03c820>"
            ]
          },
          "metadata": {},
          "execution_count": 129
        },
        {
          "output_type": "display_data",
          "data": {
            "text/plain": [
              "<Figure size 640x480 with 1 Axes>"
            ],
            "image/png": "[encoded data removed]"
          },
          "metadata": {}
        }
      ]
    },
    {
      "cell_type": "code",
      "source": [
        "X=np.reshape(X,(-1,1))\n",
        "y=np.reshape(y,(-1,1))"
      ],
      "metadata": {
        "id": "BEOTloJDxr8I"
      },
      "execution_count": null,
      "outputs": []
    },
    {
      "cell_type": "code",
      "source": [
        "X_train,X_test,y_train,y_test=train_test_split(X,y,test_size=0.4,random_state=2)"
      ],
      "metadata": {
        "id": "CDSO5t3QvZIL"
      },
      "execution_count": null,
      "outputs": []
    },
    {
      "cell_type": "code",
      "source": [
        "l=LinearRegression()"
      ],
      "metadata": {
        "id": "VkTswbkHvMWT"
      },
      "execution_count": null,
      "outputs": []
    },
    {
      "cell_type": "code",
      "source": [
        "l.fit(X_train, y_train)"
      ],
      "metadata": {
        "colab": {
          "base_uri": "https://localhost:8080/",
          "height": 75
        },
        "id": "8GxVySiOvdIZ",
        "outputId": "877c7d7a-8067-414e-9737-598513773c08"
      },
      "execution_count": null,
      "outputs": [
        {
          "output_type": "execute_result",
          "data": {
            "text/plain": [
              "LinearRegression()"
            ],
            "text/html": [
              "<style>#sk-container-id-3 {color: black;background-color: white;}#sk-container-id-3 pre{padding: 0;}#sk-container-id-3 div.sk-toggleable {background-color: white;}#sk-container-id-3 label.sk-toggleable__label {cursor: pointer;display: block;width: 100%;margin-bottom: 0;padding: 0.3em;box-sizing: border-box;text-align: center;}#sk-container-id-3 label.sk-toggleable__label-arrow:before {content: \"▸\";float: left;margin-right: 0.25em;color: #696969;}#sk-container-id-3 label.sk-toggleable__label-arrow:hover:before {color: black;}#sk-container-id-3 div.sk-estimator:hover label.sk-toggleable__label-arrow:before {color: black;}#sk-container-id-3 div.sk-toggleable__content {max-height: 0;max-width: 0;overflow: hidden;text-align: left;background-color: #f0f8ff;}#sk-container-id-3 div.sk-toggleable__content pre {margin: 0.2em;color: black;border-radius: 0.25em;background-color: #f0f8ff;}#sk-container-id-3 input.sk-toggleable__control:checked~div.sk-toggleable__content {max-height: 200px;max-width: 100%;overflow: auto;}#sk-container-id-3 input.sk-toggleable__control:checked~label.sk-toggleable__label-arrow:before {content: \"▾\";}#sk-container-id-3 div.sk-estimator input.sk-toggleable__control:checked~label.sk-toggleable__label {background-color: #d4ebff;}#sk-container-id-3 div.sk-label input.sk-toggleable__control:checked~label.sk-toggleable__label {background-color: #d4ebff;}#sk-container-id-3 input.sk-hidden--visually {border: 0;clip: rect(1px 1px 1px 1px);clip: rect(1px, 1px, 1px, 1px);height: 1px;margin: -1px;overflow: hidden;padding: 0;position: absolute;width: 1px;}#sk-container-id-3 div.sk-estimator {font-family: monospace;background-color: #f0f8ff;border: 1px dotted black;border-radius: 0.25em;box-sizing: border-box;margin-bottom: 0.5em;}#sk-container-id-3 div.sk-estimator:hover {background-color: #d4ebff;}#sk-container-id-3 div.sk-parallel-item::after {content: \"\";width: 100%;border-bottom: 1px solid gray;flex-grow: 1;}#sk-container-id-3 div.sk-label:hover label.sk-toggleable__label {background-color: #d4ebff;}#sk-container-id-3 div.sk-serial::before {content: \"\";position: absolute;border-left: 1px solid gray;box-sizing: border-box;top: 0;bottom: 0;left: 50%;z-index: 0;}#sk-container-id-3 div.sk-serial {display: flex;flex-direction: column;align-items: center;background-color: white;padding-right: 0.2em;padding-left: 0.2em;position: relative;}#sk-container-id-3 div.sk-item {position: relative;z-index: 1;}#sk-container-id-3 div.sk-parallel {display: flex;align-items: stretch;justify-content: center;background-color: white;position: relative;}#sk-container-id-3 div.sk-item::before, #sk-container-id-3 div.sk-parallel-item::before {content: \"\";position: absolute;border-left: 1px solid gray;box-sizing: border-box;top: 0;bottom: 0;left: 50%;z-index: -1;}#sk-container-id-3 div.sk-parallel-item {display: flex;flex-direction: column;z-index: 1;position: relative;background-color: white;}#sk-container-id-3 div.sk-parallel-item:first-child::after {align-self: flex-end;width: 50%;}#sk-container-id-3 div.sk-parallel-item:last-child::after {align-self: flex-start;width: 50%;}#sk-container-id-3 div.sk-parallel-item:only-child::after {width: 0;}#sk-container-id-3 div.sk-dashed-wrapped {border: 1px dashed gray;margin: 0 0.4em 0.5em 0.4em;box-sizing: border-box;padding-bottom: 0.4em;background-color: white;}#sk-container-id-3 div.sk-label label {font-family: monospace;font-weight: bold;display: inline-block;line-height: 1.2em;}#sk-container-id-3 div.sk-label-container {text-align: center;}#sk-container-id-3 div.sk-container {/* jupyter's `normalize.less` sets `[hidden] { display: none; }` but bootstrap.min.css set `[hidden] { display: none !important; }` so we also need the `!important` here to be able to override the default hidden behavior on the sphinx rendered scikit-learn.org. See: https://github.com/scikit-learn/scikit-learn/issues/21755 */display: inline-block !important;position: relative;}#sk-container-id-3 div.sk-text-repr-fallback {display: none;}</style><div id=\"sk-container-id-3\" class=\"sk-top-container\"><div class=\"sk-text-repr-fallback\"><pre>LinearRegression()</pre><b>In a Jupyter environment, please rerun this cell to show the HTML representation or trust the notebook. <br />On GitHub, the HTML representation is unable to render, please try loading this page with nbviewer.org.</b></div><div class=\"sk-container\" hidden><div class=\"sk-item\"><div class=\"sk-estimator sk-toggleable\"><input class=\"sk-toggleable__control sk-hidden--visually\" id=\"sk-estimator-id-3\" type=\"checkbox\" checked><label for=\"sk-estimator-id-3\" class=\"sk-toggleable__label sk-toggleable__label-arrow\">LinearRegression</label><div class=\"sk-toggleable__content\"><pre>LinearRegression()</pre></div></div></div></div></div>"
            ]
          },
          "metadata": {},
          "execution_count": 133
        }
      ]
    },
    {
      "cell_type": "code",
      "source": [
        "y_pred=l.predict(X_test)"
      ],
      "metadata": {
        "id": "o1aZVP6wwyiY"
      },
      "execution_count": null,
      "outputs": []
    },
    {
      "cell_type": "markdown",
      "source": [],
      "metadata": {
        "id": "nGqzUuKo2kzW"
      }
    },
    {
      "cell_type": "code",
      "source": [
        "print(\"MSE=\",mean_squared_error(y_pred,y_test))"
      ],
      "metadata": {
        "colab": {
          "base_uri": "https://localhost:8080/"
        },
        "id": "IEMqbgR4xE6I",
        "outputId": "4822fabf-a808-4c2e-c83a-38a06bcf65ca"
      },
      "execution_count": null,
      "outputs": [
        {
          "output_type": "stream",
          "name": "stdout",
          "text": [
            "MSE= 603927775.954708\n"
          ]
        }
      ]
    },
    {
      "cell_type": "code",
      "source": [
        "print(\"MAE=\",mean_absolute_error(y_pred,y_test))"
      ],
      "metadata": {
        "colab": {
          "base_uri": "https://localhost:8080/"
        },
        "id": "O5lfr6cuzd63",
        "outputId": "0a8c1f21-9946-4884-9b4d-60ff7303c9fd"
      },
      "execution_count": null,
      "outputs": [
        {
          "output_type": "stream",
          "name": "stdout",
          "text": [
            "MAE= 15285.3648049863\n"
          ]
        }
      ]
    },
    {
      "cell_type": "code",
      "source": [
        "print(\"r2 score=\",r2_score(y_pred,y_test))"
      ],
      "metadata": {
        "colab": {
          "base_uri": "https://localhost:8080/"
        },
        "id": "VPkjtZu9z2zf",
        "outputId": "70d542cf-cc26-40e7-bb7c-9fca400edf03"
      },
      "execution_count": null,
      "outputs": [
        {
          "output_type": "stream",
          "name": "stdout",
          "text": [
            "r2 score= -0.7697254299986533\n"
          ]
        }
      ]
    },
    {
      "cell_type": "code",
      "source": [
        "plt.scatter(X_test,y_test)\n",
        "plt.plot(X_test,y_pred,\"r\")"
      ],
      "metadata": {
        "colab": {
          "base_uri": "https://localhost:8080/",
          "height": 447
        },
        "id": "kmszPim50hie",
        "outputId": "db8e176c-bfbe-49a4-cb44-0daf6b023955"
      },
      "execution_count": null,
      "outputs": [
        {
          "output_type": "execute_result",
          "data": {
            "text/plain": [
              "[<matplotlib.lines.Line2D at 0x7db395dad270>]"
            ]
          },
          "metadata": {},
          "execution_count": 144
        },
        {
          "output_type": "display_data",
          "data": {
            "text/plain": [
              "<Figure size 640x480 with 1 Axes>"
            ],
            "image/png": "[encoded data removed]"
          },
          "metadata": {}
        }
      ]
    },
    {
      "cell_type": "code",
      "source": [],
      "metadata": {
        "id": "18_W8_xe40KV"
      },
      "execution_count": null,
      "outputs": []
    }
  ]
}